{
 "cells": [
  {
   "cell_type": "markdown",
   "metadata": {},
   "source": [
    "This exercise will require you to pull some data from the Qunadl API. Qaundl is currently the most widely used aggregator of financial market data."
   ]
  },
  {
   "cell_type": "markdown",
   "metadata": {},
   "source": [
    "As a first step, you will need to register a free account on the http://www.quandl.com website."
   ]
  },
  {
   "cell_type": "markdown",
   "metadata": {},
   "source": [
    "After you register, you will be provided with a unique API key, that you should store:"
   ]
  },
  {
   "cell_type": "code",
   "execution_count": 1,
   "metadata": {},
   "outputs": [],
   "source": [
    "# Store the API key as a string - according to PEP8, constants are always named in all upper case\n",
    "API_KEY = '6LBNxyxV-UdMWVo4PiQw'"
   ]
  },
  {
   "cell_type": "markdown",
   "metadata": {},
   "source": [
    "Qaundl has a large number of data sources, but, unfortunately, most of them require a Premium subscription. Still, there are also a good number of free datasets."
   ]
  },
  {
   "cell_type": "markdown",
   "metadata": {},
   "source": [
    "For this mini project, we will focus on equities data from the Frankfurt Stock Exhange (FSE), which is available for free. We'll try and analyze the stock prices of a company called Carl Zeiss Meditec, which manufactures tools for eye examinations, as well as medical lasers for laser eye surgery: https://www.zeiss.com/meditec/int/home.html. The company is listed under the stock ticker AFX_X."
   ]
  },
  {
   "cell_type": "markdown",
   "metadata": {},
   "source": [
    "You can find the detailed Quandl API instructions here: https://docs.quandl.com/docs/time-series"
   ]
  },
  {
   "cell_type": "markdown",
   "metadata": {},
   "source": [
    "While there is a dedicated Python package for connecting to the Quandl API, we would prefer that you use the *requests* package, which can be easily downloaded using *pip* or *conda*. You can find the documentation for the package here: http://docs.python-requests.org/en/master/ "
   ]
  },
  {
   "cell_type": "markdown",
   "metadata": {},
   "source": [
    "Finally, apart from the *requests* package, you are encouraged to not use any third party Python packages, such as *pandas*, and instead focus on what's available in the Python Standard Library (the *collections* module might come in handy: https://pymotw.com/3/collections/ ).\n",
    "Also, since you won't have access to DataFrames, you are encouraged to us Python's native data structures - preferably dictionaries, though some questions can also be answered using lists.\n",
    "You can read more on these data structures here: https://docs.python.org/3/tutorial/datastructures.html"
   ]
  },
  {
   "cell_type": "markdown",
   "metadata": {},
   "source": [
    "Keep in mind that the JSON responses you will be getting from the API map almost one-to-one to Python's dictionaries. Unfortunately, they can be very nested, so make sure you read up on indexing dictionaries in the documentation provided above."
   ]
  },
  {
   "cell_type": "code",
   "execution_count": 89,
   "metadata": {},
   "outputs": [],
   "source": [
    "# First, import the relevant modules\n",
    "import json\n",
    "import requests\n"
   ]
  },
  {
   "cell_type": "code",
   "execution_count": 90,
   "metadata": {},
   "outputs": [],
   "source": [
    "# Now, call the Quandl API and pull out a small sample of the data (only one day) to get a glimpse\n",
    "# into the JSON structure that will be returned\n",
    "url=\"https://www.quandl.com/api/v3/datasets/FSE/AFX_X/data.json?&start_date=2017-01-01&end_date=2017-12-31&api_key=\"\n",
    "#url=\"https://www.quandl.com/api/v3/datasets/WIKI/FB/data.json?api_key=6LBNxyxV-UdMWVo4PiQw\"\n",
    "r= requests.get(url)\n",
    "#https://www.quandl.com/api/v3/datasets/FSE/AFX_X.json?%22+ \"&start_date=2017-01-01&end_date=2017-12-31&api_key"
   ]
  },
  {
   "cell_type": "code",
   "execution_count": 93,
   "metadata": {
    "scrolled": false
   },
   "outputs": [
    {
     "name": "stdout",
     "output_type": "stream",
     "text": [
      "dataset_data: ['Date', 'Open', 'High', 'Low', 'Close', 'Change', 'Traded Volume', 'Turnover', 'Last Price of the Day', 'Daily Traded Units', 'Daily Turnover']\n",
      "Highest_Opening_Price\n",
      "53.11\n",
      "Lowest_Opening_Price\n",
      "34.0\n",
      "Largest_Change_in_any_one_based_high_low_Price\n",
      "2.8100000000000023\n",
      "Largest_Price_Change_two_days_consecutive\n",
      "2.559999999999995\n",
      "Largest_Price_Change_any_two_days\n",
      "19.03\n",
      "Average Trading Volume\n",
      "89124.33725490196\n",
      "Median Trading Volume\n",
      "76286.0\n"
     ]
    }
   ],
   "source": [
    "# Inspect the JSON structure of the object you created, and take note of how nested it is,\n",
    "# as well as the overall structure\n",
    "#convert json structure in  find the information keys and values\n",
    "#Convert the returned JSON object into a Python dictionary\n",
    "json_data=r.json();\n",
    "for key, value in json_data.items():\n",
    "    print(key + ':', value['column_names'])\n",
    "#creating the list for data   \n",
    "for k in json_data.keys():\n",
    "    jnd = json_data[k] \n",
    "    listall_data=jnd['data']\n",
    "#    print(listall_data)\n",
    "#creating the list for Opening_id1.\n",
    "#Calculate what the highest and lowest opening prices \n",
    "#were for the stock in this period\n",
    "Opening = []\n",
    "for op in listall_data:\n",
    "#    print(op[1])\n",
    "    if op[1]:\n",
    "        Opening.append(op[1])\n",
    "Highest = max(Opening)\n",
    "Lowest = min(Opening)\n",
    "print('Highest_Opening_Price')\n",
    "print(Highest)\n",
    "print('Lowest_Opening_Price')\n",
    "print(Lowest)\n",
    "\n",
    "#What was the largest change in any one day (based on High and Low price)?\n",
    "HighLow = []\n",
    "max_change = 0\n",
    "for list in listall_data:\n",
    "    change = list[2]-list[3]\n",
    "    HighLow.append(change)\n",
    "largest_change = max(HighLow)\n",
    "print('Largest_Change_in_any_one_based_high_low_Price')\n",
    "print(largest_change)\n",
    "# What was the largest change between any two days (based on Closing Price)?\n",
    "Closing = []\n",
    "for cl in listall_data:\n",
    "#    print(cl[4])\n",
    "    if cl[4]:\n",
    "        Closing.append(cl[4])        \n",
    "diff_list = []\n",
    "for i in range(1,len(Closing)):\n",
    "    x = Closing[i] - Closing[i-1]\n",
    "    diff_list.append(x)\n",
    "larg_change_twodays = max(diff_list)\n",
    "#print(diff_list)\n",
    "print('Largest_Price_Change_two_days_consecutive')\n",
    "print(larg_change_twodays)\n",
    "maxclosing = max(Closing)\n",
    "minclosing = min(Closing)\n",
    "diff_closing = maxclosing-minclosing\n",
    "print('Largest_Price_Change_any_two_days')\n",
    "print(diff_closing)\n",
    "# What was the average daily trading volume during this year?\n",
    "from statistics import mean \n",
    "from statistics import median\n",
    "traded_vol = []\n",
    "for tv in listall_data:\n",
    "#    print(tv[6])\n",
    "    if tv[6]:\n",
    "        traded_vol.append(tv[6])  \n",
    "tvol_avg = mean(traded_vol) \n",
    "tvol_med = median(traded_vol)\n",
    "print('Average Trading Volume')\n",
    "print(tvol_avg) \n",
    "print('Median Trading Volume')\n",
    "print(tvol_med) \n",
    "\n"
   ]
  },
  {
   "cell_type": "markdown",
   "metadata": {},
   "source": [
    "These are your tasks for this mini project:\n",
    "\n",
    "1. Collect data from the Franfurt Stock Exchange, for the ticker AFX_X, for the whole year 2017 (keep in mind that the date format is YYYY-MM-DD).\n",
    "2. Convert the returned JSON object into a Python dictionary.\n",
    "3. Calculate what the highest and lowest opening prices were for the stock in this period.\n",
    "4. What was the largest change in any one day (based on High and Low price)?\n",
    "5. What was the largest change between any two days (based on Closing Price)?\n",
    "6. What was the average daily trading volume during this year?\n",
    "7. (Optional) What was the median trading volume during this year. (Note: you may need to implement your own function for calculating the median.)"
   ]
  },
  {
   "cell_type": "code",
   "execution_count": null,
   "metadata": {},
   "outputs": [],
   "source": []
  }
 ],
 "metadata": {
  "kernelspec": {
   "display_name": "Python 3",
   "language": "python",
   "name": "python3"
  },
  "language_info": {
   "codemirror_mode": {
    "name": "ipython",
    "version": 3
   },
   "file_extension": ".py",
   "mimetype": "text/x-python",
   "name": "python",
   "nbconvert_exporter": "python",
   "pygments_lexer": "ipython3",
   "version": "3.8.5"
  }
 },
 "nbformat": 4,
 "nbformat_minor": 2
}
